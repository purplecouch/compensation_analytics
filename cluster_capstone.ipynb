{
 "cells": [
  {
   "cell_type": "markdown",
   "metadata": {
    "editable": true
   },
   "source": [
    "# Create the project redshift cluster #\n",
    "\n",
    "This notebook will be used to:\n",
    "1. Create the redshift cluster\n",
    "2. Delete cluster\n",
    "\n",
    "\n",
    "\n"
   ]
  },
  {
   "cell_type": "code",
   "execution_count": 1,
   "metadata": {
    "editable": true
   },
   "outputs": [],
   "source": [
    "import configparser\n",
    "import boto3\n",
    "import psycopg2\n",
    "from pprint import pprint\n"
   ]
  },
  {
   "cell_type": "markdown",
   "metadata": {
    "editable": true
   },
   "source": [
    "### Creating Redshift Cluster ###"
   ]
  },
  {
   "cell_type": "code",
   "execution_count": 2,
   "metadata": {
    "editable": true
   },
   "outputs": [],
   "source": [
    "config = configparser.ConfigParser()\n",
    "config.read_file(open('dwh.cfg'))\n",
    "#KEY=config.get('AWS','KEY')\n",
    "#SECRET= config.get('AWS','SECRET')\n",
    "\n",
    "ARN = config.get('IAM_ROLE','ARN')\n",
    "\n",
    "DB_NAME = config.get('CLUSTER','DB_NAME')\n",
    "DB_USER = config.get('CLUSTER','DB_USER')\n",
    "DB_PWD = config.get('CLUSTER','DB_PASSWORD')\n",
    "DB_PORT = config.get('CLUSTER','DB_PORT')\n",
    "DB_HOST = config.get('CLUSTER','HOST')\n",
    "\n",
    "NODE_TYPE = config.get('DWH','NODE_TYPE')\n",
    "NODE_NUM = config.get('DWH','NUM_NODES')\n",
    "CLUSTER_TYPE = config.get('DWH','CLUSTER_TYPE')\n",
    "CLUSTER_ID = config.get('DWH','CLUSTER_ID')"
   ]
  },
  {
   "cell_type": "code",
   "execution_count": 3,
   "metadata": {
    "editable": true
   },
   "outputs": [],
   "source": [
    "#redshift = boto3.client('redshift',aws_access_key_id=KEY,\n",
    "                       #aws_secret_access_key=SECRET ,region_name = 'us-west-2')\n",
    "redshift = boto3.client('redshift',region_name = 'us-west-2')"
   ]
  },
  {
   "cell_type": "code",
   "execution_count": 4,
   "metadata": {
    "editable": true
   },
   "outputs": [],
   "source": [
    "try:\n",
    "    redshift.create_cluster(\n",
    "    ClusterType = CLUSTER_TYPE, NodeType = NODE_TYPE, NumberOfNodes = int(NODE_NUM),\n",
    "    DBName = DB_NAME, ClusterIdentifier = CLUSTER_ID, MasterUsername = DB_USER, MasterUserPassword = DB_PWD,\n",
    "    IamRoles = [ARN])\n",
    "except Exception as e:\n",
    "    print(e)"
   ]
  },
  {
   "cell_type": "markdown",
   "metadata": {
    "editable": true
   },
   "source": [
    "Run below cell to ensure cluster status is \"available\". Once cluster is available then run create_table.py to create tables."
   ]
  },
  {
   "cell_type": "code",
   "execution_count": 7,
   "metadata": {
    "editable": true
   },
   "outputs": [],
   "source": [
    "mycluster_status = redshift.describe_clusters(ClusterIdentifier=CLUSTER_ID)['Clusters'][0]['ClusterStatus']\n",
    "mycluster_prop = redshift.describe_clusters(ClusterIdentifier=CLUSTER_ID)['Clusters'][0]"
   ]
  },
  {
   "cell_type": "code",
   "execution_count": 8,
   "metadata": {
    "editable": true
   },
   "outputs": [
    {
     "data": {
      "text/plain": [
       "'available'"
      ]
     },
     "execution_count": 8,
     "metadata": {},
     "output_type": "execute_result"
    }
   ],
   "source": [
    "mycluster_status"
   ]
  },
  {
   "cell_type": "markdown",
   "metadata": {
    "editable": true
   },
   "source": [
    "### Delete the Redshift CLuster ##"
   ]
  },
  {
   "cell_type": "code",
   "execution_count": 9,
   "metadata": {
    "editable": true
   },
   "outputs": [
    {
     "name": "stdout",
     "output_type": "stream",
     "text": [
      "cluster deleted\n"
     ]
    }
   ],
   "source": [
    "#delete cluster\n",
    "try:\n",
    "    redshift.delete_cluster( ClusterIdentifier=CLUSTER_ID,  SkipFinalClusterSnapshot=True)\n",
    "    print('cluster deleted')\n",
    "except Exception as e:\n",
    "    print(e)"
   ]
  },
  {
   "cell_type": "code",
   "execution_count": null,
   "metadata": {
    "editable": true
   },
   "outputs": [],
   "source": []
  },
  {
   "cell_type": "code",
   "execution_count": null,
   "metadata": {
    "editable": true
   },
   "outputs": [],
   "source": []
  }
 ],
 "metadata": {
  "kernelspec": {
   "display_name": "Python 3",
   "language": "python",
   "name": "python3"
  },
  "language_info": {
   "codemirror_mode": {
    "name": "ipython",
    "version": 3
   },
   "file_extension": ".py",
   "mimetype": "text/x-python",
   "name": "python",
   "nbconvert_exporter": "python",
   "pygments_lexer": "ipython3",
   "version": "3.6.12"
  }
 },
 "nbformat": 4,
 "nbformat_minor": 4
}
