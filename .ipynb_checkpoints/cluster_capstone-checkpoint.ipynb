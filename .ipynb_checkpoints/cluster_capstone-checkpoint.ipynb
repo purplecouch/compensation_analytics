{
 "cells": [
  {
   "cell_type": "markdown",
   "metadata": {
    "editable": true
   },
   "source": [
    "# Create the sparkify redshift cluster #\n",
    "\n",
    "This notebook will be used to:\n",
    "1. setup the redshift cluster\n",
    "2. Test whether the create_tables.py and etl.py ran successfully\n",
    "3. Run analytical queries for testing/analysis to ensure the star-schema is correct\n",
    "4. Check for any errors caused by etl.py\n",
    "\n",
    "\n"
   ]
  },
  {
   "cell_type": "code",
   "execution_count": 1,
   "metadata": {
    "editable": true
   },
   "outputs": [],
   "source": [
    "import configparser\n",
    "import boto3\n",
    "import psycopg2\n",
    "from pprint import pprint\n"
   ]
  },
  {
   "cell_type": "markdown",
   "metadata": {
    "editable": true
   },
   "source": [
    "### Creating Redshift Cluster ###"
   ]
  },
  {
   "cell_type": "code",
   "execution_count": 2,
   "metadata": {
    "editable": true
   },
   "outputs": [],
   "source": [
    "config = configparser.ConfigParser()\n",
    "config.read_file(open('dwh.cfg'))\n",
    "KEY=config.get('AWS','KEY')\n",
    "SECRET= config.get('AWS','SECRET')\n",
    "\n",
    "ARN = config.get('IAM_ROLE','ARN')\n",
    "\n",
    "DB_NAME = config.get('CLUSTER','DB_NAME')\n",
    "DB_USER = config.get('CLUSTER','DB_USER')\n",
    "DB_PWD = config.get('CLUSTER','DB_PASSWORD')\n",
    "DB_PORT = config.get('CLUSTER','DB_PORT')\n",
    "DB_HOST = config.get('CLUSTER','HOST')\n",
    "\n",
    "NODE_TYPE = config.get('DWH','NODE_TYPE')\n",
    "NODE_NUM = config.get('DWH','NUM_NODES')\n",
    "CLUSTER_TYPE = config.get('DWH','CLUSTER_TYPE')\n",
    "CLUSTER_ID = config.get('DWH','CLUSTER_ID')"
   ]
  },
  {
   "cell_type": "code",
   "execution_count": 3,
   "metadata": {
    "editable": true
   },
   "outputs": [],
   "source": [
    "redshift = boto3.client('redshift',aws_access_key_id=KEY,\n",
    "                       aws_secret_access_key=SECRET ,region_name = 'us-west-2')"
   ]
  },
  {
   "cell_type": "code",
   "execution_count": 4,
   "metadata": {
    "editable": true
   },
   "outputs": [],
   "source": [
    "try:\n",
    "    redshift.create_cluster(\n",
    "    ClusterType = CLUSTER_TYPE, NodeType = NODE_TYPE, NumberOfNodes = int(NODE_NUM),\n",
    "    DBName = DB_NAME, ClusterIdentifier = CLUSTER_ID, MasterUsername = DB_USER, MasterUserPassword = DB_PWD,\n",
    "    IamRoles = [ARN])\n",
    "except Exception as e:\n",
    "    print(e)"
   ]
  },
  {
   "cell_type": "markdown",
   "metadata": {
    "editable": true
   },
   "source": [
    "Run below cell to ensure cluster status is \"available\". Once cluster is available then run create_table.py to create tables."
   ]
  },
  {
   "cell_type": "code",
   "execution_count": 6,
   "metadata": {
    "editable": true
   },
   "outputs": [
    {
     "data": {
      "text/plain": [
       "'available'"
      ]
     },
     "execution_count": 6,
     "metadata": {},
     "output_type": "execute_result"
    }
   ],
   "source": [
    "mycluster_status = redshift.describe_clusters(ClusterIdentifier=CLUSTER_ID)['Clusters'][0]['ClusterStatus']\n",
    "mycluster_prop = redshift.describe_clusters(ClusterIdentifier=CLUSTER_ID)['Clusters'][0]\n",
    "\n",
    "mycluster_status"
   ]
  },
  {
   "cell_type": "markdown",
   "metadata": {
    "editable": true
   },
   "source": [
    "### Configuring Security Groups to Ensure redshift ports can recieve the S3 Data ###"
   ]
  },
  {
   "cell_type": "code",
   "execution_count": null,
   "metadata": {
    "editable": true
   },
   "outputs": [],
   "source": [
    "ec2 = boto3.resource('ec2',\n",
    "                       region_name=\"us-west-2\",\n",
    "                       aws_access_key_id=KEY,\n",
    "                       aws_secret_access_key=SECRET\n",
    "                    )"
   ]
  },
  {
   "cell_type": "code",
   "execution_count": null,
   "metadata": {
    "editable": true
   },
   "outputs": [],
   "source": [
    "vpc = ec2.Vpc(id=mycluster_prop['VpcId'])\n",
    "#list(vpc.security_groups.all())[0]\n"
   ]
  },
  {
   "cell_type": "code",
   "execution_count": null,
   "metadata": {
    "editable": true
   },
   "outputs": [],
   "source": [
    "try:\n",
    "    vpc = ec2.Vpc(id=mycluster_prop['VpcId'])\n",
    "    defaultSg = list(vpc.security_groups.all())[0]\n",
    "    print(defaultSg)\n",
    "    defaultSg.authorize_ingress(\n",
    "        GroupName=defaultSg.group_name,\n",
    "        CidrIp='0.0.0.0/0',\n",
    "        IpProtocol='TCP',\n",
    "        FromPort=int(DB_PORT),\n",
    "        ToPort=int(DB_PORT)\n",
    "    )\n",
    "except Exception as e:\n",
    "    print(e)"
   ]
  },
  {
   "cell_type": "markdown",
   "metadata": {
    "editable": true
   },
   "source": [
    "### Test whether create_table.py ran properly ###"
   ]
  },
  {
   "cell_type": "code",
   "execution_count": 7,
   "metadata": {
    "editable": true
   },
   "outputs": [
    {
     "name": "stdout",
     "output_type": "stream",
     "text": [
      "[('artist', 1, 'artist_id', 'character varying'),\n",
      " ('artist', 2, 'name', 'character varying'),\n",
      " ('artist', 3, 'location', 'character varying'),\n",
      " ('artist', 4, 'lattitude', 'numeric'),\n",
      " ('artist', 5, 'longitude', 'numeric'),\n",
      " ('song', 1, 'song_id', 'character varying'),\n",
      " ('song', 2, 'title', 'character varying'),\n",
      " ('song', 3, 'artist_id', 'character varying'),\n",
      " ('song', 4, 'year', 'integer'),\n",
      " ('song', 5, 'duration', 'numeric'),\n",
      " ('songplays', 1, 'songplay_id', 'integer'),\n",
      " ('songplays', 2, 'start_time', 'timestamp without time zone'),\n",
      " ('songplays', 3, 'user_id', 'character varying'),\n",
      " ('songplays', 4, 'level', 'character varying'),\n",
      " ('songplays', 5, 'song_id', 'character varying'),\n",
      " ('songplays', 6, 'artist_id', 'character varying'),\n",
      " ('songplays', 7, 'session_id', 'integer'),\n",
      " ('songplays', 8, 'location', 'character varying'),\n",
      " ('songplays', 9, 'user_agent', 'character varying'),\n",
      " ('staging_events', 1, 'artist', 'character varying'),\n",
      " ('staging_events', 2, 'auth', 'character varying'),\n",
      " ('staging_events', 3, 'firstname', 'character varying'),\n",
      " ('staging_events', 4, 'gender', 'character varying'),\n",
      " ('staging_events', 5, 'iteminsession', 'integer'),\n",
      " ('staging_events', 6, 'lastname', 'character varying'),\n",
      " ('staging_events', 7, 'length', 'numeric'),\n",
      " ('staging_events', 8, 'level', 'character varying'),\n",
      " ('staging_events', 9, 'location', 'character varying'),\n",
      " ('staging_events', 10, 'method', 'character varying'),\n",
      " ('staging_events', 11, 'page', 'character varying'),\n",
      " ('staging_events', 12, 'registration', 'numeric'),\n",
      " ('staging_events', 13, 'sessionid', 'integer'),\n",
      " ('staging_events', 14, 'song', 'character varying'),\n",
      " ('staging_events', 15, 'status', 'integer'),\n",
      " ('staging_events', 16, 'ts', 'bigint'),\n",
      " ('staging_events', 17, 'useragent', 'character varying'),\n",
      " ('staging_events', 18, 'userid', 'character varying'),\n",
      " ('staging_songs', 1, 'song_id', 'character varying'),\n",
      " ('staging_songs', 2, 'artist_id', 'character varying'),\n",
      " ('staging_songs', 3, 'num_songs', 'integer'),\n",
      " ('staging_songs', 4, 'artist_latitude', 'numeric'),\n",
      " ('staging_songs', 5, 'artist_longitude', 'numeric'),\n",
      " ('staging_songs', 6, 'artist_location', 'character varying'),\n",
      " ('staging_songs', 7, 'artist_name', 'character varying'),\n",
      " ('staging_songs', 8, 'title', 'character varying'),\n",
      " ('staging_songs', 9, 'duration', 'numeric'),\n",
      " ('staging_songs', 10, 'year', 'integer'),\n",
      " ('time', 1, 'start_time', 'timestamp without time zone'),\n",
      " ('time', 2, 'hour', 'integer'),\n",
      " ('time', 3, 'day', 'integer'),\n",
      " ('time', 4, 'week', 'integer'),\n",
      " ('time', 5, 'month', 'integer'),\n",
      " ('time', 6, 'year', 'integer'),\n",
      " ('time', 7, 'weekday', 'integer'),\n",
      " ('users', 1, 'user_id', 'character varying'),\n",
      " ('users', 2, 'first_name', 'character varying'),\n",
      " ('users', 3, 'last_name', 'character varying'),\n",
      " ('users', 4, 'gender', 'character varying'),\n",
      " ('users', 5, 'level', 'character varying')]\n"
     ]
    }
   ],
   "source": [
    "#test whether tables were created correctly\n",
    "conn = psycopg2.connect(host='sparkify-cluster.cx9rmslxxjof.us-west-2.redshift.amazonaws.com', dbname=DB_NAME, user=DB_USER, password=DB_PWD, port=DB_PORT)\n",
    "cur = conn.cursor()\n",
    "qry = \"\"\"\n",
    "select table_name,ordinal_position ,column_name,data_type\n",
    "from information_schema.columns where table_name in \n",
    "('staging_events','staging_songs','songplays','users','song','artist','artist','time')\n",
    "order by table_name,ordinal_position\"\"\"\n",
    "\n",
    "cur.execute(qry)\n",
    "pprint(cur.fetchall())\n",
    "conn.close()"
   ]
  },
  {
   "cell_type": "markdown",
   "metadata": {
    "editable": true
   },
   "source": [
    "Run etl.py"
   ]
  },
  {
   "cell_type": "markdown",
   "metadata": {
    "editable": true
   },
   "source": [
    "### Function to test tables inserts ###"
   ]
  },
  {
   "cell_type": "code",
   "execution_count": 8,
   "metadata": {
    "editable": true
   },
   "outputs": [],
   "source": [
    "def check_inserts(table_list):\n",
    "    \"\"\"Check row counts and sample 3 rows for table in a list of tables\"\"\"\n",
    "    \n",
    "    conn = psycopg2.connect(host='sparkify-cluster.cx9rmslxxjof.us-west-2.redshift.amazonaws.com', dbname=DB_NAME, user=DB_USER, password=DB_PWD, port=DB_PORT)\n",
    "    cur = conn.cursor()\n",
    "    \n",
    "    try:\n",
    "        for table in table_list:\n",
    "            qry_sample = \"\"\"\n",
    "            select * from {}\n",
    "            limit 3\n",
    "            \"\"\".format(table)\n",
    "            \n",
    "            print(qry_sample)\n",
    "        \n",
    "            qry_cnt = \"\"\"\n",
    "            select count(*) from {}\n",
    "            \"\"\".format(table)\n",
    "            \n",
    "            print(qry_cnt)\n",
    "            \n",
    "            cur.execute(qry_cnt)\n",
    "            print(\"count of rows in {} : \".format(table),cur.fetchall())\n",
    "            \n",
    "            print(\"sample rows in {} : \".format(table))\n",
    "            cur.execute(qry_sample)\n",
    "            pprint(cur.fetchall())\n",
    "            \n",
    "            \n",
    "            \n",
    "    \n",
    "    except Exception as e:\n",
    "        print(e)\n",
    "        print('closing connection')\n",
    "        conn.close()\n",
    "        \n",
    "    conn.close()"
   ]
  },
  {
   "cell_type": "markdown",
   "metadata": {
    "editable": true
   },
   "source": [
    "### Testing Stage table inserts ###"
   ]
  },
  {
   "cell_type": "code",
   "execution_count": 9,
   "metadata": {
    "editable": true
   },
   "outputs": [
    {
     "name": "stdout",
     "output_type": "stream",
     "text": [
      "\n",
      "            select * from staging_events\n",
      "            limit 3\n",
      "            \n",
      "\n",
      "            select count(*) from staging_events\n",
      "            \n",
      "count of rows in staging_events :  [(8056,)]\n",
      "sample rows in staging_events : \n",
      "[(None,\n",
      "  'Logged In',\n",
      "  'Adler',\n",
      "  'M',\n",
      "  0,\n",
      "  'Barrera',\n",
      "  None,\n",
      "  'free',\n",
      "  'New York-Newark-Jersey City, NY-NJ-PA',\n",
      "  'GET',\n",
      "  'Home',\n",
      "  Decimal('1540835983796'),\n",
      "  248,\n",
      "  None,\n",
      "  200,\n",
      "  1541470364796,\n",
      "  '\"Mozilla/5.0 (Macintosh; Intel Mac OS X 10_9_4) AppleWebKit/537.78.2 '\n",
      "  '(KHTML, like Gecko) Version/7.0.6 Safari/537.78.2\"',\n",
      "  '100'),\n",
      " ('Gustavo Cerati',\n",
      "  'Logged In',\n",
      "  'Adler',\n",
      "  'M',\n",
      "  1,\n",
      "  'Barrera',\n",
      "  Decimal('249'),\n",
      "  'free',\n",
      "  'New York-Newark-Jersey City, NY-NJ-PA',\n",
      "  'PUT',\n",
      "  'NextSong',\n",
      "  Decimal('1540835983796'),\n",
      "  248,\n",
      "  'Uno Entre 1000',\n",
      "  200,\n",
      "  1541470383796,\n",
      "  '\"Mozilla/5.0 (Macintosh; Intel Mac OS X 10_9_4) AppleWebKit/537.78.2 '\n",
      "  '(KHTML, like Gecko) Version/7.0.6 Safari/537.78.2\"',\n",
      "  '100'),\n",
      " ('Limp Bizkit',\n",
      "  'Logged In',\n",
      "  'Adler',\n",
      "  'M',\n",
      "  2,\n",
      "  'Barrera',\n",
      "  Decimal('270'),\n",
      "  'free',\n",
      "  'New York-Newark-Jersey City, NY-NJ-PA',\n",
      "  'PUT',\n",
      "  'NextSong',\n",
      "  Decimal('1540835983796'),\n",
      "  248,\n",
      "  'Behind Blue Eyes',\n",
      "  200,\n",
      "  1541470632796,\n",
      "  '\"Mozilla/5.0 (Macintosh; Intel Mac OS X 10_9_4) AppleWebKit/537.78.2 '\n",
      "  '(KHTML, like Gecko) Version/7.0.6 Safari/537.78.2\"',\n",
      "  '100')]\n",
      "\n",
      "            select * from staging_songs\n",
      "            limit 3\n",
      "            \n",
      "\n",
      "            select count(*) from staging_songs\n",
      "            \n",
      "count of rows in staging_songs :  [(14896,)]\n",
      "sample rows in staging_songs : \n",
      "[('SODZYPO12A8C13A91E',\n",
      "  'AR1C2IX1187B99BF74',\n",
      "  1,\n",
      "  None,\n",
      "  None,\n",
      "  '',\n",
      "  'Broken Spindles',\n",
      "  'Burn My Body (Album Version)',\n",
      "  Decimal('177'),\n",
      "  0),\n",
      " ('SOYOWPX12AB018B46C',\n",
      "  'ARKULHT11C8A415E71',\n",
      "  1,\n",
      "  None,\n",
      "  None,\n",
      "  '',\n",
      "  'Jam Hsiao',\n",
      "  'Green Door',\n",
      "  Decimal('198'),\n",
      "  2009),\n",
      " ('SOPIKEG12A58291636',\n",
      "  'AR06EB01187FB40150',\n",
      "  1,\n",
      "  None,\n",
      "  None,\n",
      "  'Berkeley, CA',\n",
      "  'NOFX',\n",
      "  'Stickin In My Eye',\n",
      "  Decimal('144'),\n",
      "  1992)]\n"
     ]
    }
   ],
   "source": [
    "stage_table_list = ['staging_events','staging_songs']\n",
    "check_inserts(stage_table_list)"
   ]
  },
  {
   "cell_type": "markdown",
   "metadata": {
    "editable": true
   },
   "source": [
    "### Testing star-schema inserts ###"
   ]
  },
  {
   "cell_type": "code",
   "execution_count": 12,
   "metadata": {
    "editable": true
   },
   "outputs": [
    {
     "name": "stdout",
     "output_type": "stream",
     "text": [
      "\n",
      "            select * from songplays\n",
      "            limit 3\n",
      "            \n",
      "\n",
      "            select count(*) from songplays\n",
      "            \n",
      "count of rows in songplays :  [(333,)]\n",
      "sample rows in songplays : \n",
      "[(44,\n",
      "  datetime.datetime(9999, 4, 7, 11, 49, 56),\n",
      "  '54',\n",
      "  'free',\n",
      "  'SOTNHIP12AB0183131',\n",
      "  'ARD46C811C8A414F3F',\n",
      "  951,\n",
      "  'Yuba City, CA',\n",
      "  'Mozilla/5.0 (Windows NT 6.1; WOW64; rv:31.0) Gecko/20100101 Firefox/31.0'),\n",
      " (60,\n",
      "  datetime.datetime(9999, 11, 12, 7, 9, 56),\n",
      "  '12',\n",
      "  'free',\n",
      "  'SOARUPP12AB01842E0',\n",
      "  'ARD46C811C8A414F3F',\n",
      "  371,\n",
      "  'New York-Newark-Jersey City, NY-NJ-PA',\n",
      "  'Mozilla/5.0 (Windows NT 6.1; rv:31.0) Gecko/20100101 Firefox/31.0'),\n",
      " (140,\n",
      "  datetime.datetime(9999, 7, 14, 13, 6, 36),\n",
      "  '95',\n",
      "  'paid',\n",
      "  'SOQYHVZ12A6D4F93CF',\n",
      "  'ARRZUPG11F43A69EF7',\n",
      "  222,\n",
      "  'Winston-Salem, NC',\n",
      "  '\"Mozilla/5.0 (iPhone; CPU iPhone OS 7_1_2 like Mac OS X) '\n",
      "  'AppleWebKit/537.51.2 (KHTML, like Gecko) Version/7.0 Mobile/11D257 '\n",
      "  'Safari/9537.53\"')]\n",
      "\n",
      "            select * from song\n",
      "            limit 3\n",
      "            \n",
      "\n",
      "            select count(*) from song\n",
      "            \n",
      "count of rows in song :  [(14896,)]\n",
      "sample rows in song : \n",
      "[('SOAAAQN12AB01856D3',\n",
      "  'Campeones De La Vida',\n",
      "  'ARAMIDF1187FB3D8D4',\n",
      "  0,\n",
      "  Decimal('153')),\n",
      " ('SOAACFC12A8C140567',\n",
      "  'Supernatural Pt. II',\n",
      "  'ARNHTE41187B99289A',\n",
      "  0,\n",
      "  Decimal('343')),\n",
      " ('SOAACTC12AB0186A20',\n",
      "  'Christmas Is Coming Soon',\n",
      "  'ARXWFZ21187FB43A0B',\n",
      "  2008,\n",
      "  Decimal('180'))]\n",
      "\n",
      "            select * from artist\n",
      "            limit 3\n",
      "            \n",
      "\n",
      "            select count(*) from artist\n",
      "            \n",
      "count of rows in artist :  [(10025,)]\n",
      "sample rows in artist : \n",
      "[('AR00B1I1187FB433EB', 'Eagle-Eye Cherry', 'Stockholm, Sweden', None, None),\n",
      " ('AR00DG71187B9B7FCB', 'Basslovers United', '', None, None),\n",
      " ('AR00FVC1187FB5BE3E',\n",
      "  'Panda',\n",
      "  'Monterrey, NL, México',\n",
      "  Decimal('25'),\n",
      "  Decimal('-100'))]\n",
      "\n",
      "            select * from users\n",
      "            limit 3\n",
      "            \n",
      "\n",
      "            select count(*) from users\n",
      "            \n",
      "count of rows in users :  [(107,)]\n",
      "sample rows in users : \n",
      "[('', None, None, None, 'free'),\n",
      " ('', None, None, None, 'paid'),\n",
      " ('10', 'Sylvie', 'Cruz', 'F', 'free')]\n",
      "\n",
      "            select * from time\n",
      "            limit 3\n",
      "            \n",
      "\n",
      "            select count(*) from time\n",
      "            \n",
      "count of rows in time :  [(8023,)]\n",
      "sample rows in time : \n",
      "[(datetime.datetime(9999, 9, 13, 0, 59, 56), 0, 13, 37, 9, 50805, 2),\n",
      " (datetime.datetime(9999, 9, 16, 5, 39, 56), 5, 16, 37, 9, 50805, 5),\n",
      " (datetime.datetime(9999, 9, 16, 12, 53, 16), 12, 16, 37, 9, 50805, 5)]\n"
     ]
    }
   ],
   "source": [
    "star_table_list = ['songplays','song','artist','users','time']\n",
    "check_inserts(star_table_list)"
   ]
  },
  {
   "cell_type": "markdown",
   "metadata": {
    "editable": true
   },
   "source": [
    "### Testing analytical queries ###"
   ]
  },
  {
   "cell_type": "code",
   "execution_count": 13,
   "metadata": {
    "editable": true
   },
   "outputs": [
    {
     "name": "stdout",
     "output_type": "stream",
     "text": [
      "popular songs by location\n",
      "[('Lansing-East Lansing, MI', \"You're The One\", 5),\n",
      " ('San Francisco-Oakland-Hayward, CA', \"You're The One\", 4),\n",
      " ('San Francisco-Oakland-Hayward, CA', \"I CAN'T GET STARTED\", 4),\n",
      " ('Lake Havasu City-Kingman, AZ', \"You're The One\", 3),\n",
      " ('Chicago-Naperville-Elgin, IL-IN-WI', \"You're The One\", 3)]\n",
      "Top 5 most popular artists\n",
      "[('Dwight Yoakam', 37),\n",
      " ('Kid Cudi / Kanye West / Common', 10),\n",
      " ('Ron Carter', 9),\n",
      " ('Lonnie Gordon', 9),\n",
      " ('B.o.B', 8)]\n"
     ]
    }
   ],
   "source": [
    "# Testing analytical queries \n",
    "\n",
    "# popular songs by location\n",
    "\n",
    "user_most_songs = \"\"\" \n",
    "select sp.location,s.title ,\n",
    "count(sp.session_id) as number_of_sessions\n",
    "from songplays sp\n",
    "join song s on s.song_id=sp.song_id\n",
    "group by sp.location,s.title \n",
    "order by number_of_sessions desc\n",
    "limit 5\n",
    "\"\"\"\n",
    "\n",
    "# Top 5 most popular artists\n",
    "\n",
    "top_5_artists = \"\"\" \n",
    "select a.name ,\n",
    "count(sp.session_id) as number_of_sessions\n",
    "from songplays sp\n",
    "join artist a on a.artist_id=sp.artist_id\n",
    "group by a.name \n",
    "order by number_of_sessions desc\n",
    "limit 5\n",
    "\"\"\"\n",
    "\n",
    "conn = psycopg2.connect(host='sparkify-cluster.cx9rmslxxjof.us-west-2.redshift.amazonaws.com', dbname=DB_NAME, user=DB_USER, password=DB_PWD, port=DB_PORT)\n",
    "cur = conn.cursor()\n",
    "\n",
    "print('popular songs by location')\n",
    "\n",
    "cur.execute(user_most_songs)\n",
    "pprint(cur.fetchall())\n",
    "\n",
    "print('Top 5 most popular artists')\n",
    "\n",
    "cur.execute(top_5_artists)\n",
    "pprint(cur.fetchall())\n",
    "\n",
    "conn.close()"
   ]
  },
  {
   "cell_type": "markdown",
   "metadata": {
    "editable": true
   },
   "source": [
    "### Run cell below if there are any issues when loading data ###"
   ]
  },
  {
   "cell_type": "code",
   "execution_count": 11,
   "metadata": {
    "editable": true
   },
   "outputs": [
    {
     "name": "stdout",
     "output_type": "stream",
     "text": [
      "[]\n",
      "\n",
      "\n"
     ]
    }
   ],
   "source": [
    "conn = psycopg2.connect(host='sparkify-cluster.cx9rmslxxjof.us-west-2.redshift.amazonaws.com', dbname=DB_NAME, user=DB_USER, password=DB_PWD, port=DB_PORT)\n",
    "cur = conn.cursor()\n",
    "\n",
    "qry_e = \"\"\"SELECT * FROM stl_load_errors;  \"\"\"\n",
    "\n",
    "cur.execute(qry_e )\n",
    "pprint(cur.fetchall())\n",
    "\n",
    "print('\\n')\n",
    "\n",
    "\n",
    "\n",
    "\n",
    "conn.close()"
   ]
  },
  {
   "cell_type": "markdown",
   "metadata": {
    "editable": true
   },
   "source": [
    "### Delete the Redshift CLuster ##"
   ]
  },
  {
   "cell_type": "code",
   "execution_count": 14,
   "metadata": {
    "editable": true
   },
   "outputs": [
    {
     "name": "stdout",
     "output_type": "stream",
     "text": [
      "cluster deleted\n"
     ]
    }
   ],
   "source": [
    "#delete cluster\n",
    "try:\n",
    "    redshift.delete_cluster( ClusterIdentifier=CLUSTER_ID,  SkipFinalClusterSnapshot=True)\n",
    "    print('cluster deleted')\n",
    "except Exception as e:\n",
    "    print(e)"
   ]
  },
  {
   "cell_type": "code",
   "execution_count": null,
   "metadata": {
    "editable": true
   },
   "outputs": [],
   "source": []
  },
  {
   "cell_type": "code",
   "execution_count": null,
   "metadata": {
    "editable": true
   },
   "outputs": [],
   "source": []
  }
 ],
 "metadata": {
  "kernelspec": {
   "display_name": "Python 3",
   "language": "python",
   "name": "python3"
  },
  "language_info": {
   "codemirror_mode": {
    "name": "ipython",
    "version": 3
   },
   "file_extension": ".py",
   "mimetype": "text/x-python",
   "name": "python",
   "nbconvert_exporter": "python",
   "pygments_lexer": "ipython3",
   "version": "3.6.3"
  }
 },
 "nbformat": 4,
 "nbformat_minor": 4
}
