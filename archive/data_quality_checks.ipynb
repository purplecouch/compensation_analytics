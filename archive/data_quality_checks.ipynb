{
 "cells": [
  {
   "cell_type": "code",
   "execution_count": 15,
   "metadata": {},
   "outputs": [
    {
     "name": "stdout",
     "output_type": "stream",
     "text": [
      "Writing data_quality_checks.py\n"
     ]
    }
   ],
   "source": [
    "%%writefile data_quality_checks.py\n",
    "import configparser\n",
    "import psycopg2\n",
    "from sql_queries import check_1_sql, oes_state_code_check\n",
    "import time\n",
    "import pandas as pd"
   ]
  },
  {
   "cell_type": "markdown",
   "metadata": {},
   "source": [
    "# DATA QUALITY CHECKS\n",
    "\n",
    "## CHECK 1 : RAW TABLES LOADED\n",
    "\n",
    "1. Count rows in raw tables. if any of the tables has rows = 0 then fail else pass\n",
    "\n",
    "## ChecK 2: CLEAN TABLES LOADED\n",
    "\n",
    "1. Count rows in raw tables and then count rows in clean tables. If the count of rows don't match then fail else pass.\n",
    "\n",
    "## Check 3: DIM TABLES loaded\n",
    "\n",
    "1. Check count of rows in dim tables. If the count of rows is 0 faile else pass.\n",
    "\n",
    "## Check 4: FACT TABLES loaded\n",
    "\n",
    "1. Check count of rows in fact table. If the count of rows is 0 faile else pass.\n"
   ]
  },
  {
   "cell_type": "code",
   "execution_count": 2,
   "metadata": {},
   "outputs": [],
   "source": [
    "config = configparser.ConfigParser()\n",
    "config.read('dwh.cfg')\n",
    "conn = psycopg2.connect(\"host={} dbname={} user={} password={} port={}\".format(*config['CLUSTER'].values()))\n",
    "cur = conn.cursor()"
   ]
  },
  {
   "cell_type": "raw",
   "metadata": {},
   "source": [
    "check_1_sql = \"\"\"\n",
    "select count(*) from {}\n",
    "\"\"\"\n",
    "\n",
    "oes_state_code_check = \"\"\"\n",
    "select count(distinct state_code) from oes_by_state_dim\n",
    "\"\"\"\n"
   ]
  },
  {
   "cell_type": "markdown",
   "metadata": {},
   "source": [
    "# Check 1"
   ]
  },
  {
   "cell_type": "code",
   "execution_count": 16,
   "metadata": {},
   "outputs": [
    {
     "name": "stdout",
     "output_type": "stream",
     "text": [
      "Appending to data_quality_checks.py\n"
     ]
    }
   ],
   "source": [
    "%%writefile -a data_quality_checks.py\n",
    "\n",
    "def data_quality_raw(cur):\n",
    "    raw_tables = {'stg_raw_h1b_disclosures':0,'stg_raw_oes':0,'lkp_state_codes':0,'lkp_naics_codes':0}\n",
    "    \n",
    "    for table in raw_tables:\n",
    "        cur.execute(check_1_sql.format(table))\n",
    "        result = cur.fetchall()\n",
    "        raw_tables[table] = result[0][0]\n",
    "        \n",
    "    print(raw_tables)\n",
    "    \n",
    "    if 0 in raw_tables.values():\n",
    "        print('raw table data quality check failed')\n",
    "    else:\n",
    "        print('raw table data quality check passed')"
   ]
  },
  {
   "cell_type": "markdown",
   "metadata": {},
   "source": [
    "# Check 2"
   ]
  },
  {
   "cell_type": "code",
   "execution_count": 17,
   "metadata": {},
   "outputs": [
    {
     "name": "stdout",
     "output_type": "stream",
     "text": [
      "Appending to data_quality_checks.py\n"
     ]
    }
   ],
   "source": [
    "%%writefile -a data_quality_checks.py\n",
    "\n",
    "def data_quality_clean(cur):\n",
    "    clean_tables = {'stg_clean_h1b_disclosures':0,'stg_clean_oes':0}\n",
    "    \n",
    "    for table in clean_tables:\n",
    "        cur.execute(check_1_sql.format(table))\n",
    "        result = cur.fetchall()\n",
    "        clean_tables[table] = result[0][0]\n",
    "        \n",
    "    print(clean_tables)\n",
    "        \n",
    "    if 0 in clean_tables.values():\n",
    "        print('clean table data quality check failed')\n",
    "    else:\n",
    "        print('clean table data quality check passed')\n"
   ]
  },
  {
   "cell_type": "markdown",
   "metadata": {},
   "source": [
    "# Check 3"
   ]
  },
  {
   "cell_type": "code",
   "execution_count": 18,
   "metadata": {},
   "outputs": [
    {
     "name": "stdout",
     "output_type": "stream",
     "text": [
      "Appending to data_quality_checks.py\n"
     ]
    }
   ],
   "source": [
    "%%writefile -a data_quality_checks.py\n",
    "\n",
    "def data_quality_dim(cur):\n",
    "    \n",
    "    dim_tables = {'employer_dim':0,'oes_by_state_dim':0}\n",
    "    \n",
    "    for table in dim_tables:\n",
    "        cur.execute(check_1_sql.format(table))\n",
    "        result = cur.fetchall()\n",
    "        dim_tables[table] = result[0][0]\n",
    "        \n",
    "    print(dim_tables)\n",
    "    \n",
    "    if 0 in dim_tables.values():\n",
    "        print('General dim table data quality check failed')\n",
    "    else:\n",
    "        print('General dim table data quality check passed')\n",
    "        \n",
    "    cur.execute(oes_state_code_check)\n",
    "    result = cur.fetchall()\n",
    "    state_cnt = result[0][0]\n",
    "    \n",
    "    print('distinct state codes in oes_by_state_dim = ',state_cnt)\n",
    "    \n",
    "    if state_cnt != 51:\n",
    "        print('OES dim table state code data quality check failed')\n",
    "    else:\n",
    "        print('OES dim table state code data quality check passed')\n",
    "\n",
    "\n",
    "    "
   ]
  },
  {
   "cell_type": "markdown",
   "metadata": {},
   "source": [
    "# Check 4"
   ]
  },
  {
   "cell_type": "code",
   "execution_count": 19,
   "metadata": {},
   "outputs": [
    {
     "name": "stdout",
     "output_type": "stream",
     "text": [
      "Appending to data_quality_checks.py\n"
     ]
    }
   ],
   "source": [
    "%%writefile -a data_quality_checks.py\n",
    "\n",
    "def data_quality_fact(cur):\n",
    "    \n",
    "    fact_tables = {'h1b_worker_fact':0}\n",
    "    \n",
    "    for table in fact_tables:\n",
    "        cur.execute(check_1_sql.format(table))\n",
    "        result = cur.fetchall()\n",
    "        fact_tables[table] = result[0][0]\n",
    "        \n",
    "    print(fact_tables)\n",
    "    \n",
    "    if 0 in fact_tables.values():\n",
    "        print('General fact table data quality check failed')\n",
    "    else:\n",
    "        print('General fact table data quality check passed')\n",
    "    "
   ]
  },
  {
   "cell_type": "code",
   "execution_count": 8,
   "metadata": {},
   "outputs": [
    {
     "name": "stdout",
     "output_type": "stream",
     "text": [
      "{'stg_raw_h1b_disclosures': 1279010, 'stg_raw_oes': 831161, 'lkp_state_codes': 51, 'lkp_naics_codes': 2196}\n",
      "raw table data quality check passed\n"
     ]
    }
   ],
   "source": [
    "data_quality_raw(cur)"
   ]
  },
  {
   "cell_type": "code",
   "execution_count": 13,
   "metadata": {},
   "outputs": [
    {
     "name": "stdout",
     "output_type": "stream",
     "text": [
      "{'stg_clean_h1b_disclosures': 1279010, 'stg_clean_oes': 831161}\n",
      "clean table data quality check passed\n"
     ]
    }
   ],
   "source": [
    "data_quality_clean(cur)"
   ]
  },
  {
   "cell_type": "code",
   "execution_count": 10,
   "metadata": {},
   "outputs": [
    {
     "name": "stdout",
     "output_type": "stream",
     "text": [
      "{'employer_dim': 141736, 'oes_by_state_dim': 69497}\n",
      "General dim table data quality check passed\n",
      "distinct state codes in oes_by_state_dim =  51\n",
      "OES dim table state code data quality check passed\n"
     ]
    }
   ],
   "source": [
    "data_quality_dim(cur)"
   ]
  },
  {
   "cell_type": "code",
   "execution_count": 11,
   "metadata": {},
   "outputs": [
    {
     "name": "stdout",
     "output_type": "stream",
     "text": [
      "{'h1b_worker_fact': 1279010}\n",
      "General fact table data quality check passed\n"
     ]
    }
   ],
   "source": [
    "data_quality_fact(cur)"
   ]
  },
  {
   "cell_type": "code",
   "execution_count": 14,
   "metadata": {},
   "outputs": [],
   "source": [
    "conn.close()"
   ]
  },
  {
   "cell_type": "code",
   "execution_count": 20,
   "metadata": {},
   "outputs": [
    {
     "name": "stdout",
     "output_type": "stream",
     "text": [
      "Appending to data_quality_checks.py\n"
     ]
    }
   ],
   "source": [
    "%%writefile -a data_quality_checks.py\n",
    "\n",
    "def main():\n",
    "    \n",
    "    config = configparser.ConfigParser()\n",
    "    config.read('dwh.cfg')\n",
    "    conn = psycopg2.connect(\"host={} dbname={} user={} password={} port={}\".format(*config['CLUSTER'].values()))\n",
    "    cur = conn.cursor()\n",
    "    \n",
    "    data_quality_raw(cur)\n",
    "    data_quality_clean(cur)\n",
    "    data_quality_dim(cur)\n",
    "    data_quality_fact(cur)\n",
    "    \n",
    "    conn.close()\n",
    "    \n",
    "\n",
    "if __name__ == \"__main__\":\n",
    "    main()"
   ]
  },
  {
   "cell_type": "code",
   "execution_count": null,
   "metadata": {},
   "outputs": [],
   "source": []
  }
 ],
 "metadata": {
  "kernelspec": {
   "display_name": "Python 3",
   "language": "python",
   "name": "python3"
  },
  "language_info": {
   "codemirror_mode": {
    "name": "ipython",
    "version": 3
   },
   "file_extension": ".py",
   "mimetype": "text/x-python",
   "name": "python",
   "nbconvert_exporter": "python",
   "pygments_lexer": "ipython3",
   "version": "3.6.12"
  }
 },
 "nbformat": 4,
 "nbformat_minor": 4
}
