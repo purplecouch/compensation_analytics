{
 "cells": [
  {
   "cell_type": "markdown",
   "metadata": {},
   "source": [
    "## Interacting with Common AWS services using Python 3 ##\n",
    "\n",
    "**This notebook will capture how to :**\n",
    "1. connect to create buckets in s3.\n",
    "2. Listing buckets in s3\n",
    "3. How to connect to existing buckets in s3 and read files in them.\n",
    "4. How to download files from s3 onto local computer\n",
    "5. How to copy files from one bucket to another\n",
    "6. Deleting s3 buckets"
   ]
  },
  {
   "cell_type": "code",
   "execution_count": 1,
   "metadata": {},
   "outputs": [],
   "source": [
    "import boto3"
   ]
  },
  {
   "cell_type": "markdown",
   "metadata": {},
   "source": [
    "### Connecting to s3 ###"
   ]
  },
  {
   "cell_type": "code",
   "execution_count": 2,
   "metadata": {},
   "outputs": [],
   "source": [
    "s3_resource = boto3.resource('s3')"
   ]
  },
  {
   "cell_type": "code",
   "execution_count": 3,
   "metadata": {},
   "outputs": [
    {
     "name": "stdout",
     "output_type": "stream",
     "text": [
      "aws-emr-resources-910991713532-us-west-1\n",
      "aws-logs-910991713532-us-west-1\n",
      "faraz-bucket-a-20200712\n",
      "faraz-test-bucket-20200712\n",
      "fk-new-bucket-20200711\n",
      "sparkify-fk\n",
      "sparkify-fk3\n",
      "sparkify-fk4\n"
     ]
    }
   ],
   "source": [
    "#list available buckets\n",
    "for bucket in s3_resource.buckets.all():\n",
    "    print(bucket.name)"
   ]
  },
  {
   "cell_type": "raw",
   "metadata": {},
   "source": [
    "#creating a new bucket \"faraz-bucket-a-20200712\"\n",
    "s3_resource.create_bucket(Bucket = 'faraz-bucket-a-20200712',CreateBucketConfiguration = {'LocationConstraint' : 'us-west-1'})"
   ]
  },
  {
   "cell_type": "raw",
   "metadata": {},
   "source": [
    "#list available buckets\n",
    "for bucket in s3_resource.buckets.all():\n",
    "    print(bucket.name)"
   ]
  },
  {
   "cell_type": "markdown",
   "metadata": {},
   "source": [
    "### Reading Files in Buckets ###"
   ]
  },
  {
   "cell_type": "code",
   "execution_count": 4,
   "metadata": {},
   "outputs": [
    {
     "name": "stdout",
     "output_type": "stream",
     "text": [
      "some_file\n",
      "some_file2\n",
      "some_file_new\n"
     ]
    }
   ],
   "source": [
    "### connect to existing bucket and print files in there ###\n",
    "bucket_0711 = s3_resource.Bucket('fk-new-bucket-20200711')\n",
    "\n",
    "for objct in bucket_0711.objects.all():\n",
    "    print(objct.key)"
   ]
  },
  {
   "cell_type": "code",
   "execution_count": null,
   "metadata": {},
   "outputs": [],
   "source": [
    "# Reading files in the bucket bucket_0711\n",
    "\n",
    "#below code reads all the lines in te s3 bucket\n",
    "for objct in bucket_0711.objects.all():\n",
    "    print(objct.key)\n",
    "    print(objct.get()['Body'].read())"
   ]
  },
  {
   "cell_type": "code",
   "execution_count": null,
   "metadata": {},
   "outputs": [],
   "source": [
    "# read a specific file in the bucket\n",
    "s3_obj = bucket_0711.Object('some_file')\n",
    "\n",
    "s3_obj.get()['Body'].read().decode('utf-8')"
   ]
  },
  {
   "cell_type": "markdown",
   "metadata": {},
   "source": [
    "### Downloading Files from s3 to local machine ###\n",
    "\n",
    "Download \"some_file\" in fk-new_bucket-20200711 to /Users/faraz/Desktop/aws_test\n"
   ]
  },
  {
   "cell_type": "raw",
   "metadata": {},
   "source": [
    "bucket_0711.download_file('some_file','/Users/faraz/Desktop/aws_test/some_file.txt')"
   ]
  },
  {
   "cell_type": "markdown",
   "metadata": {},
   "source": [
    "Farazs-MBP: aws_test faraz$ ls <br>\n",
    "config      credentials     some_file.txt"
   ]
  },
  {
   "cell_type": "raw",
   "metadata": {},
   "source": [
    "#downloading all files from the bucket\n",
    "def s3_download_all(path):\n",
    "    for objct in bucket_0711.objects.all():\n",
    "        file = objct.key\n",
    "        bucket_0711.download_file(file,path+file+'.txt')"
   ]
  },
  {
   "cell_type": "raw",
   "metadata": {},
   "source": [
    "s3_download_all('/Users/faraz/Desktop/aws_test/test_all/')"
   ]
  },
  {
   "cell_type": "markdown",
   "metadata": {},
   "source": [
    "**Farazs-MBP:aws_test faraz$** ls test_all/<br>\n",
    "some_file.txt   some_file2.txt   some_file_new.txt"
   ]
  },
  {
   "cell_type": "markdown",
   "metadata": {},
   "source": [
    "### Copy Files from one bucket to another ###\n",
    "\n",
    "Copy files in fk-new_bucket-20200711 to faraz-bucket-a-20200712\n",
    "\n"
   ]
  },
  {
   "cell_type": "raw",
   "metadata": {},
   "source": [
    "copy_source = {'Bucket': 'fk-new-bucket-20200711', 'Key' : 'some_file' }\n",
    "\n",
    "bucket_0712 = s3_resource.Bucket('faraz-bucket-a-20200712')\n",
    "bucket_0712.copy(copy_source,'some_file_copy')"
   ]
  },
  {
   "cell_type": "markdown",
   "metadata": {},
   "source": [
    "## Connecting to other buckets in S ##\n",
    "\n",
    "Using boto3 connect to the following endpoints:\n",
    ">Song data: s3://udacity-dend/song_data  \n",
    "Log data: s3://udacity-dend/log_data  \n",
    "Log data json path: s3://udacity-dend/log_json_path.json "
   ]
  },
  {
   "cell_type": "code",
   "execution_count": null,
   "metadata": {},
   "outputs": [],
   "source": [
    "dataeng_bucket = s3_resource.Bucket('udacity-dend')"
   ]
  },
  {
   "cell_type": "code",
   "execution_count": null,
   "metadata": {},
   "outputs": [],
   "source": [
    "# see all files under the song_data/A/A/A\n",
    "song_files = dataeng_bucket.objects.filter(Prefix = 'song_data/A/A/A/')"
   ]
  },
  {
   "cell_type": "code",
   "execution_count": null,
   "metadata": {},
   "outputs": [],
   "source": [
    "for song in song_files:\n",
    "    print(song.key)\n",
    "    "
   ]
  },
  {
   "cell_type": "code",
   "execution_count": null,
   "metadata": {},
   "outputs": [],
   "source": [
    "\n",
    "# see contents of song_data/A/A/A/TRAAAAK128F9318786.json\n",
    "song_786 = dataeng_bucket.Object('song_data/A/A/A/TRAAAAK128F9318786.json')\n",
    "print(song_786.get()['Body'].read().decode('utf-8'))\n"
   ]
  },
  {
   "cell_type": "code",
   "execution_count": null,
   "metadata": {},
   "outputs": [],
   "source": [
    "# see all files under the log_data/\n",
    "log_files = dataeng_bucket.objects.filter(Prefix = 'log_data/')"
   ]
  },
  {
   "cell_type": "code",
   "execution_count": null,
   "metadata": {},
   "outputs": [],
   "source": [
    "for log in log_files:\n",
    "    print(log)"
   ]
  },
  {
   "cell_type": "code",
   "execution_count": null,
   "metadata": {},
   "outputs": [],
   "source": [
    "# see contents of log_data/2018/11/2018-11-01-events.json\n",
    "log_a = dataeng_bucket.Object('log_data/2018/11/2018-11-29-events.json')\n",
    "print(log_a.get()['Body'].read().decode('utf-8'))"
   ]
  },
  {
   "cell_type": "code",
   "execution_count": null,
   "metadata": {},
   "outputs": [],
   "source": [
    "# reading s3://udacity-dend/log_json_path.json\n",
    "\n",
    "json_log_path = dataeng_bucket.Object('log_json_path.json')\n",
    "print(json_log_path)"
   ]
  },
  {
   "cell_type": "code",
   "execution_count": null,
   "metadata": {},
   "outputs": [],
   "source": [
    "print(json_log_path.get()['Body'].read().decode('utf-8'))"
   ]
  },
  {
   "cell_type": "code",
   "execution_count": null,
   "metadata": {},
   "outputs": [],
   "source": []
  }
 ],
 "metadata": {
  "kernelspec": {
   "display_name": "Python 3",
   "language": "python",
   "name": "python3"
  },
  "language_info": {
   "codemirror_mode": {
    "name": "ipython",
    "version": 3
   },
   "file_extension": ".py",
   "mimetype": "text/x-python",
   "name": "python",
   "nbconvert_exporter": "python",
   "pygments_lexer": "ipython3",
   "version": "3.6.12"
  }
 },
 "nbformat": 4,
 "nbformat_minor": 4
}
