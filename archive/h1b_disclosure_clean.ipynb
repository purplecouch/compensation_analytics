{
 "cells": [
  {
   "cell_type": "code",
   "execution_count": 1,
   "metadata": {},
   "outputs": [],
   "source": [
    "import pandas as pd\n",
    "import csv"
   ]
  },
  {
   "cell_type": "code",
   "execution_count": 2,
   "metadata": {},
   "outputs": [
    {
     "name": "stdout",
     "output_type": "stream",
     "text": [
      "H-1B_Disclosure_Data_FY17.xlsx       h1b_datahubexport-2019.csv\n",
      "H-1B_Disclosure_Data_FY2018_EOY.xlsx \u001b[31mnational_M2019_dl.xlsx\u001b[m\u001b[m\n",
      "H-1B_Disclosure_Data_FY2019.xlsx     \u001b[34moesm18all\u001b[m\u001b[m\n",
      "H-1B_FY18_Record_Layout.pdf          \u001b[34moesm19all\u001b[m\u001b[m\n",
      "H-1B_FY19_Record_Layout.pdf          \u001b[34moesm19nat\u001b[m\u001b[m\n",
      "PERM_Disclosure_Data_FY2019_2.xlsx\n"
     ]
    }
   ],
   "source": [
    "!ls /Users/faraz/Documents/udacity_de/5_capstone/datasets/\n"
   ]
  },
  {
   "cell_type": "code",
   "execution_count": 3,
   "metadata": {},
   "outputs": [
    {
     "name": "stdout",
     "output_type": "stream",
     "text": [
      "CPU times: user 9min 14s, sys: 7.23 s, total: 9min 21s\n",
      "Wall time: 9min 30s\n"
     ]
    }
   ],
   "source": [
    "%%time\n",
    "\n",
    "#h1b_2019 = '/Users/faraz/Documents/udacity_de/5_capstone/datasets/H-1B_Disclosure_Data_FY2019.xlsx'\n",
    "h1b_2018 = '/Users/faraz/Documents/udacity_de/5_capstone/datasets/H-1B_Disclosure_Data_FY2018_EOY.xlsx'\n",
    "h1b_2017 = '/Users/faraz/Documents/udacity_de/5_capstone/datasets/H-1B_Disclosure_Data_FY17.xlsx'\n",
    "\n",
    "#df_2019 = pd.read_excel(h1b_2019)\n",
    "df_2018 = pd.read_excel(h1b_2018)\n",
    "df_2017 = pd.read_excel(h1b_2017)\n",
    "\n",
    "\n",
    "        "
   ]
  },
  {
   "cell_type": "code",
   "execution_count": 4,
   "metadata": {},
   "outputs": [],
   "source": [
    "pd.set_option('display.max_rows', 500)\n",
    "pd.set_option('display.max_columns', 500)\n",
    "pd.set_option('display.width', 1000)"
   ]
  },
  {
   "cell_type": "code",
   "execution_count": 5,
   "metadata": {},
   "outputs": [
    {
     "name": "stdout",
     "output_type": "stream",
     "text": [
      "2018:  (654360, 52)\n",
      "2017:  (624650, 52)\n"
     ]
    }
   ],
   "source": [
    "print('2018: ',df_2018.shape)\n",
    "#print('2019: ',df_2019.shape)\n",
    "print('2017: ',df_2017.shape)"
   ]
  },
  {
   "cell_type": "code",
   "execution_count": 6,
   "metadata": {},
   "outputs": [
    {
     "name": "stdout",
     "output_type": "stream",
     "text": [
      "2018 memory usage : 272213888\n",
      "2017 memory usage : 259854528\n"
     ]
    }
   ],
   "source": [
    "print('2018 memory usage :',df_2018.memory_usage(index=True).sum())\n",
    "#print('2019 memory usage :',df_2019.memory_usage(index=True).sum())\n",
    "print('2017 memory usage :',df_2017.memory_usage(index=True).sum())"
   ]
  },
  {
   "cell_type": "code",
   "execution_count": 7,
   "metadata": {},
   "outputs": [
    {
     "name": "stdout",
     "output_type": "stream",
     "text": [
      "1\n"
     ]
    },
    {
     "data": {
      "text/plain": [
       "['NEW_CONCURRENT_EMP']"
      ]
     },
     "execution_count": 7,
     "metadata": {},
     "output_type": "execute_result"
    }
   ],
   "source": [
    "#difference in 2 lists\n",
    "\n",
    "diff_2018_2017 = list(set(df_2018) - set(df_2017))\n",
    "print(len(diff_2018_2017))\n",
    "sorted(diff_2018_2017)\n"
   ]
  },
  {
   "cell_type": "code",
   "execution_count": 8,
   "metadata": {},
   "outputs": [
    {
     "name": "stdout",
     "output_type": "stream",
     "text": [
      "1\n"
     ]
    },
    {
     "data": {
      "text/plain": [
       "['NEW_CONCURRENT_EMPLOYMENT']"
      ]
     },
     "execution_count": 8,
     "metadata": {},
     "output_type": "execute_result"
    }
   ],
   "source": [
    "#difference in 2 lists\n",
    "\n",
    "diff_2017_2018 = list(set(df_2017) - set(df_2018))\n",
    "print(len(diff_2017_2018))\n",
    "sorted(diff_2017_2018)"
   ]
  },
  {
   "cell_type": "code",
   "execution_count": 9,
   "metadata": {},
   "outputs": [
    {
     "name": "stdout",
     "output_type": "stream",
     "text": [
      "0 CASE_NUMBER\n",
      "1 CASE_STATUS\n",
      "2 CASE_SUBMITTED\n",
      "3 DECISION_DATE\n",
      "4 VISA_CLASS\n",
      "5 EMPLOYMENT_START_DATE\n",
      "6 EMPLOYMENT_END_DATE\n",
      "7 EMPLOYER_NAME\n",
      "8 EMPLOYER_BUSINESS_DBA\n",
      "9 EMPLOYER_ADDRESS\n",
      "10 EMPLOYER_CITY\n",
      "11 EMPLOYER_STATE\n",
      "12 EMPLOYER_POSTAL_CODE\n",
      "13 EMPLOYER_COUNTRY\n",
      "14 EMPLOYER_PROVINCE\n",
      "15 EMPLOYER_PHONE\n",
      "16 EMPLOYER_PHONE_EXT\n",
      "17 AGENT_REPRESENTING_EMPLOYER\n",
      "18 AGENT_ATTORNEY_NAME\n",
      "19 AGENT_ATTORNEY_CITY\n",
      "20 AGENT_ATTORNEY_STATE\n",
      "21 JOB_TITLE\n",
      "22 SOC_CODE\n",
      "23 SOC_NAME\n",
      "24 NAICS_CODE\n",
      "25 TOTAL_WORKERS\n",
      "26 NEW_EMPLOYMENT\n",
      "27 CONTINUED_EMPLOYMENT\n",
      "28 CHANGE_PREVIOUS_EMPLOYMENT\n",
      "29 NEW_CONCURRENT_EMP\n",
      "30 CHANGE_EMPLOYER\n",
      "31 AMENDED_PETITION\n",
      "32 FULL_TIME_POSITION\n",
      "33 PREVAILING_WAGE\n",
      "34 PW_UNIT_OF_PAY\n",
      "35 PW_WAGE_LEVEL\n",
      "36 PW_SOURCE\n",
      "37 PW_SOURCE_YEAR\n",
      "38 PW_SOURCE_OTHER\n",
      "39 WAGE_RATE_OF_PAY_FROM\n",
      "40 WAGE_RATE_OF_PAY_TO\n",
      "41 WAGE_UNIT_OF_PAY\n",
      "42 H1B_DEPENDENT\n",
      "43 WILLFUL_VIOLATOR\n",
      "44 SUPPORT_H1B\n",
      "45 LABOR_CON_AGREE\n",
      "46 PUBLIC_DISCLOSURE_LOCATION\n",
      "47 WORKSITE_CITY\n",
      "48 WORKSITE_COUNTY\n",
      "49 WORKSITE_STATE\n",
      "50 WORKSITE_POSTAL_CODE\n",
      "51 ORIGINAL_CERT_DATE\n"
     ]
    }
   ],
   "source": [
    "cols_2018 = list(df_2018.columns)\n",
    "for i,v in enumerate(cols_2018):\n",
    "    print(i,v)\n"
   ]
  },
  {
   "cell_type": "code",
   "execution_count": 10,
   "metadata": {},
   "outputs": [
    {
     "name": "stdout",
     "output_type": "stream",
     "text": [
      "0 CASE_NUMBER\n",
      "1 CASE_STATUS\n",
      "2 CASE_SUBMITTED\n",
      "3 DECISION_DATE\n",
      "4 VISA_CLASS\n",
      "5 EMPLOYMENT_START_DATE\n",
      "6 EMPLOYMENT_END_DATE\n",
      "7 EMPLOYER_NAME\n",
      "8 EMPLOYER_BUSINESS_DBA\n",
      "9 EMPLOYER_ADDRESS\n",
      "10 EMPLOYER_CITY\n",
      "11 EMPLOYER_STATE\n",
      "12 EMPLOYER_POSTAL_CODE\n",
      "13 EMPLOYER_COUNTRY\n",
      "14 EMPLOYER_PROVINCE\n",
      "15 EMPLOYER_PHONE\n",
      "16 EMPLOYER_PHONE_EXT\n",
      "17 AGENT_REPRESENTING_EMPLOYER\n",
      "18 AGENT_ATTORNEY_NAME\n",
      "19 AGENT_ATTORNEY_CITY\n",
      "20 AGENT_ATTORNEY_STATE\n",
      "21 JOB_TITLE\n",
      "22 SOC_CODE\n",
      "23 SOC_NAME\n",
      "24 NAICS_CODE\n",
      "25 TOTAL_WORKERS\n",
      "26 NEW_EMPLOYMENT\n",
      "27 CONTINUED_EMPLOYMENT\n",
      "28 CHANGE_PREVIOUS_EMPLOYMENT\n",
      "29 NEW_CONCURRENT_EMP\n",
      "30 CHANGE_EMPLOYER\n",
      "31 AMENDED_PETITION\n",
      "32 FULL_TIME_POSITION\n",
      "33 PREVAILING_WAGE\n",
      "34 PW_UNIT_OF_PAY\n",
      "35 PW_WAGE_LEVEL\n",
      "36 PW_SOURCE\n",
      "37 PW_SOURCE_YEAR\n",
      "38 PW_SOURCE_OTHER\n",
      "39 WAGE_RATE_OF_PAY_FROM\n",
      "40 WAGE_RATE_OF_PAY_TO\n",
      "41 WAGE_UNIT_OF_PAY\n",
      "42 H1B_DEPENDENT\n",
      "43 WILLFUL_VIOLATOR\n",
      "44 SUPPORT_H1B\n",
      "45 LABOR_CON_AGREE\n",
      "46 PUBLIC_DISCLOSURE_LOCATION\n",
      "47 WORKSITE_CITY\n",
      "48 WORKSITE_COUNTY\n",
      "49 WORKSITE_STATE\n",
      "50 WORKSITE_POSTAL_CODE\n",
      "51 ORIGINAL_CERT_DATE\n"
     ]
    }
   ],
   "source": [
    "cols_2017 = list(df_2018.columns)\n",
    "for i,v in enumerate(cols_2018):\n",
    "    print(i,v)"
   ]
  },
  {
   "cell_type": "code",
   "execution_count": 11,
   "metadata": {},
   "outputs": [],
   "source": [
    "#rename column in df_2018 from 'NEW_CONCURRENT_EMP' to ['NEW_CONCURRENT_EMPLOYMENT']\n",
    "\n",
    "df_2018.rename(columns={'NEW_CONCURRENT_EMP':'NEW_CONCURRENT_EMPLOYMENT'}, inplace=True)"
   ]
  },
  {
   "cell_type": "code",
   "execution_count": 12,
   "metadata": {},
   "outputs": [
    {
     "name": "stdout",
     "output_type": "stream",
     "text": [
      "0\n",
      "[]\n",
      "0\n",
      "[]\n"
     ]
    }
   ],
   "source": [
    "#difference in 2 lists\n",
    "\n",
    "diff_2018_2017 = list(set(df_2018) - set(df_2017))\n",
    "print(len(diff_2018_2017))\n",
    "print(sorted(diff_2018_2017))\n",
    "\n",
    "#difference in 2 lists\n",
    "\n",
    "diff_2017_2018 = list(set(df_2017) - set(df_2018))\n",
    "print(len(diff_2017_2018))\n",
    "print(sorted(diff_2017_2018))"
   ]
  },
  {
   "cell_type": "code",
   "execution_count": 13,
   "metadata": {},
   "outputs": [],
   "source": [
    "#insert a column to the beginning of the dataframe that captures the Fiscal year\n",
    "\n",
    "df_2018.insert(0, 'FY_YEAR', 2018)\n",
    "df_2017.insert(0, 'FY_YEAR', 2017)"
   ]
  },
  {
   "cell_type": "code",
   "execution_count": 14,
   "metadata": {},
   "outputs": [
    {
     "data": {
      "text/html": [
       "<div>\n",
       "<style scoped>\n",
       "    .dataframe tbody tr th:only-of-type {\n",
       "        vertical-align: middle;\n",
       "    }\n",
       "\n",
       "    .dataframe tbody tr th {\n",
       "        vertical-align: top;\n",
       "    }\n",
       "\n",
       "    .dataframe thead th {\n",
       "        text-align: right;\n",
       "    }\n",
       "</style>\n",
       "<table border=\"1\" class=\"dataframe\">\n",
       "  <thead>\n",
       "    <tr style=\"text-align: right;\">\n",
       "      <th></th>\n",
       "      <th>FY_YEAR</th>\n",
       "      <th>CASE_NUMBER</th>\n",
       "      <th>CASE_STATUS</th>\n",
       "      <th>CASE_SUBMITTED</th>\n",
       "      <th>DECISION_DATE</th>\n",
       "      <th>VISA_CLASS</th>\n",
       "      <th>EMPLOYMENT_START_DATE</th>\n",
       "      <th>EMPLOYMENT_END_DATE</th>\n",
       "      <th>EMPLOYER_NAME</th>\n",
       "      <th>EMPLOYER_BUSINESS_DBA</th>\n",
       "      <th>EMPLOYER_ADDRESS</th>\n",
       "      <th>EMPLOYER_CITY</th>\n",
       "      <th>EMPLOYER_STATE</th>\n",
       "      <th>EMPLOYER_POSTAL_CODE</th>\n",
       "      <th>EMPLOYER_COUNTRY</th>\n",
       "      <th>EMPLOYER_PROVINCE</th>\n",
       "      <th>EMPLOYER_PHONE</th>\n",
       "      <th>EMPLOYER_PHONE_EXT</th>\n",
       "      <th>AGENT_REPRESENTING_EMPLOYER</th>\n",
       "      <th>AGENT_ATTORNEY_NAME</th>\n",
       "      <th>AGENT_ATTORNEY_CITY</th>\n",
       "      <th>AGENT_ATTORNEY_STATE</th>\n",
       "      <th>JOB_TITLE</th>\n",
       "      <th>SOC_CODE</th>\n",
       "      <th>SOC_NAME</th>\n",
       "      <th>NAICS_CODE</th>\n",
       "      <th>TOTAL_WORKERS</th>\n",
       "      <th>NEW_EMPLOYMENT</th>\n",
       "      <th>CONTINUED_EMPLOYMENT</th>\n",
       "      <th>CHANGE_PREVIOUS_EMPLOYMENT</th>\n",
       "      <th>NEW_CONCURRENT_EMPLOYMENT</th>\n",
       "      <th>CHANGE_EMPLOYER</th>\n",
       "      <th>AMENDED_PETITION</th>\n",
       "      <th>FULL_TIME_POSITION</th>\n",
       "      <th>PREVAILING_WAGE</th>\n",
       "      <th>PW_UNIT_OF_PAY</th>\n",
       "      <th>PW_WAGE_LEVEL</th>\n",
       "      <th>PW_SOURCE</th>\n",
       "      <th>PW_SOURCE_YEAR</th>\n",
       "      <th>PW_SOURCE_OTHER</th>\n",
       "      <th>WAGE_RATE_OF_PAY_FROM</th>\n",
       "      <th>WAGE_RATE_OF_PAY_TO</th>\n",
       "      <th>WAGE_UNIT_OF_PAY</th>\n",
       "      <th>H1B_DEPENDENT</th>\n",
       "      <th>WILLFUL_VIOLATOR</th>\n",
       "      <th>SUPPORT_H1B</th>\n",
       "      <th>LABOR_CON_AGREE</th>\n",
       "      <th>PUBLIC_DISCLOSURE_LOCATION</th>\n",
       "      <th>WORKSITE_CITY</th>\n",
       "      <th>WORKSITE_COUNTY</th>\n",
       "      <th>WORKSITE_STATE</th>\n",
       "      <th>WORKSITE_POSTAL_CODE</th>\n",
       "      <th>ORIGINAL_CERT_DATE</th>\n",
       "    </tr>\n",
       "  </thead>\n",
       "  <tbody>\n",
       "    <tr>\n",
       "      <th>0</th>\n",
       "      <td>2018</td>\n",
       "      <td>I-200-18026-338377</td>\n",
       "      <td>CERTIFIED</td>\n",
       "      <td>2018-01-29</td>\n",
       "      <td>2018-02-02</td>\n",
       "      <td>H-1B</td>\n",
       "      <td>2018-07-28</td>\n",
       "      <td>2021-07-27</td>\n",
       "      <td>MICROSOFT CORPORATION</td>\n",
       "      <td>NaN</td>\n",
       "      <td>1 MICROSOFT WAY</td>\n",
       "      <td>REDMOND</td>\n",
       "      <td>WA</td>\n",
       "      <td>98052</td>\n",
       "      <td>UNITED STATES OF AMERICA</td>\n",
       "      <td>NaN</td>\n",
       "      <td>4258828080</td>\n",
       "      <td>NaN</td>\n",
       "      <td>N</td>\n",
       "      <td>,</td>\n",
       "      <td>NaN</td>\n",
       "      <td>NaN</td>\n",
       "      <td>SOFTWARE ENGINEER</td>\n",
       "      <td>15-1132</td>\n",
       "      <td>SOFTWARE DEVELOPERS, APPLICATIONS</td>\n",
       "      <td>51121.0</td>\n",
       "      <td>1</td>\n",
       "      <td>0</td>\n",
       "      <td>1</td>\n",
       "      <td>0</td>\n",
       "      <td>0</td>\n",
       "      <td>0</td>\n",
       "      <td>0</td>\n",
       "      <td>Y</td>\n",
       "      <td>112549.0</td>\n",
       "      <td>Year</td>\n",
       "      <td>Level II</td>\n",
       "      <td>OES</td>\n",
       "      <td>2017.0</td>\n",
       "      <td>OFLC ONLINE DATA CENTER</td>\n",
       "      <td>143915.0</td>\n",
       "      <td>0.0</td>\n",
       "      <td>Year</td>\n",
       "      <td>N</td>\n",
       "      <td>N</td>\n",
       "      <td>NaN</td>\n",
       "      <td>NaN</td>\n",
       "      <td>NaN</td>\n",
       "      <td>REDMOND</td>\n",
       "      <td>KING</td>\n",
       "      <td>WA</td>\n",
       "      <td>98052</td>\n",
       "      <td>NaT</td>\n",
       "    </tr>\n",
       "    <tr>\n",
       "      <th>1</th>\n",
       "      <td>2018</td>\n",
       "      <td>I-200-17296-353451</td>\n",
       "      <td>CERTIFIED</td>\n",
       "      <td>2017-10-23</td>\n",
       "      <td>2017-10-27</td>\n",
       "      <td>H-1B</td>\n",
       "      <td>2017-11-06</td>\n",
       "      <td>2020-11-06</td>\n",
       "      <td>ERNST &amp; YOUNG U.S. LLP</td>\n",
       "      <td>NaN</td>\n",
       "      <td>200 PLAZA DRIVE</td>\n",
       "      <td>SECAUCUS</td>\n",
       "      <td>NJ</td>\n",
       "      <td>07094</td>\n",
       "      <td>UNITED STATES OF AMERICA</td>\n",
       "      <td>NaN</td>\n",
       "      <td>2018723003</td>\n",
       "      <td>NaN</td>\n",
       "      <td>Y</td>\n",
       "      <td>BRADSHAW, MELANIE</td>\n",
       "      <td>TORONTO</td>\n",
       "      <td>NaN</td>\n",
       "      <td>TAX SENIOR</td>\n",
       "      <td>13-2011</td>\n",
       "      <td>ACCOUNTANTS AND AUDITORS</td>\n",
       "      <td>541211.0</td>\n",
       "      <td>1</td>\n",
       "      <td>0</td>\n",
       "      <td>0</td>\n",
       "      <td>0</td>\n",
       "      <td>0</td>\n",
       "      <td>1</td>\n",
       "      <td>0</td>\n",
       "      <td>Y</td>\n",
       "      <td>79976.0</td>\n",
       "      <td>Year</td>\n",
       "      <td>Level II</td>\n",
       "      <td>OES</td>\n",
       "      <td>2017.0</td>\n",
       "      <td>OFLC ONLINE DATA CENTER</td>\n",
       "      <td>100000.0</td>\n",
       "      <td>0.0</td>\n",
       "      <td>Year</td>\n",
       "      <td>N</td>\n",
       "      <td>N</td>\n",
       "      <td>NaN</td>\n",
       "      <td>NaN</td>\n",
       "      <td>NaN</td>\n",
       "      <td>SANTA CLARA</td>\n",
       "      <td>SAN JOSE</td>\n",
       "      <td>CA</td>\n",
       "      <td>95110</td>\n",
       "      <td>NaT</td>\n",
       "    </tr>\n",
       "  </tbody>\n",
       "</table>\n",
       "</div>"
      ],
      "text/plain": [
       "   FY_YEAR         CASE_NUMBER CASE_STATUS CASE_SUBMITTED DECISION_DATE VISA_CLASS EMPLOYMENT_START_DATE EMPLOYMENT_END_DATE           EMPLOYER_NAME EMPLOYER_BUSINESS_DBA EMPLOYER_ADDRESS EMPLOYER_CITY EMPLOYER_STATE EMPLOYER_POSTAL_CODE          EMPLOYER_COUNTRY EMPLOYER_PROVINCE EMPLOYER_PHONE EMPLOYER_PHONE_EXT AGENT_REPRESENTING_EMPLOYER AGENT_ATTORNEY_NAME AGENT_ATTORNEY_CITY AGENT_ATTORNEY_STATE          JOB_TITLE SOC_CODE                           SOC_NAME  NAICS_CODE  TOTAL_WORKERS  NEW_EMPLOYMENT  CONTINUED_EMPLOYMENT  CHANGE_PREVIOUS_EMPLOYMENT  NEW_CONCURRENT_EMPLOYMENT  CHANGE_EMPLOYER  AMENDED_PETITION FULL_TIME_POSITION  PREVAILING_WAGE PW_UNIT_OF_PAY PW_WAGE_LEVEL PW_SOURCE  PW_SOURCE_YEAR          PW_SOURCE_OTHER  WAGE_RATE_OF_PAY_FROM  WAGE_RATE_OF_PAY_TO WAGE_UNIT_OF_PAY H1B_DEPENDENT WILLFUL_VIOLATOR SUPPORT_H1B LABOR_CON_AGREE  PUBLIC_DISCLOSURE_LOCATION WORKSITE_CITY WORKSITE_COUNTY WORKSITE_STATE WORKSITE_POSTAL_CODE ORIGINAL_CERT_DATE\n",
       "0     2018  I-200-18026-338377   CERTIFIED     2018-01-29    2018-02-02       H-1B            2018-07-28          2021-07-27   MICROSOFT CORPORATION                   NaN  1 MICROSOFT WAY       REDMOND             WA                98052  UNITED STATES OF AMERICA               NaN     4258828080                NaN                           N                   ,                 NaN                  NaN  SOFTWARE ENGINEER  15-1132  SOFTWARE DEVELOPERS, APPLICATIONS     51121.0              1               0                     1                           0                          0                0                 0                  Y         112549.0           Year      Level II       OES          2017.0  OFLC ONLINE DATA CENTER               143915.0                  0.0             Year             N                N         NaN             NaN                         NaN       REDMOND            KING             WA                98052                NaT\n",
       "1     2018  I-200-17296-353451   CERTIFIED     2017-10-23    2017-10-27       H-1B            2017-11-06          2020-11-06  ERNST & YOUNG U.S. LLP                   NaN  200 PLAZA DRIVE      SECAUCUS             NJ                07094  UNITED STATES OF AMERICA               NaN     2018723003                NaN                           Y   BRADSHAW, MELANIE             TORONTO                  NaN         TAX SENIOR  13-2011           ACCOUNTANTS AND AUDITORS    541211.0              1               0                     0                           0                          0                1                 0                  Y          79976.0           Year      Level II       OES          2017.0  OFLC ONLINE DATA CENTER               100000.0                  0.0             Year             N                N         NaN             NaN                         NaN   SANTA CLARA        SAN JOSE             CA                95110                NaT"
      ]
     },
     "execution_count": 14,
     "metadata": {},
     "output_type": "execute_result"
    }
   ],
   "source": [
    "df_2018.head(2)"
   ]
  },
  {
   "cell_type": "code",
   "execution_count": 15,
   "metadata": {},
   "outputs": [],
   "source": [
    "#union both dataframes\n",
    "df_union = pd.concat([df_2018,df_2017])"
   ]
  },
  {
   "cell_type": "code",
   "execution_count": 16,
   "metadata": {},
   "outputs": [
    {
     "data": {
      "text/plain": [
       "(1279010, 53)"
      ]
     },
     "execution_count": 16,
     "metadata": {},
     "output_type": "execute_result"
    }
   ],
   "source": [
    "df_union.shape"
   ]
  },
  {
   "cell_type": "code",
   "execution_count": 17,
   "metadata": {},
   "outputs": [
    {
     "name": "stdout",
     "output_type": "stream",
     "text": [
      "CPU times: user 46.4 s, sys: 1.08 s, total: 47.5 s\n",
      "Wall time: 49 s\n"
     ]
    }
   ],
   "source": [
    "%%time\n",
    "target_dir = '/Users/faraz/Documents/udacity_de/5_capstone/datasets/h1b_disclosure_data_2017_2018.dat'\n",
    "df_union.to_csv(target_dir,sep='|',index=False,quoting=csv.QUOTE_NONNUMERIC)"
   ]
  },
  {
   "cell_type": "code",
   "execution_count": null,
   "metadata": {},
   "outputs": [],
   "source": []
  }
 ],
 "metadata": {
  "kernelspec": {
   "display_name": "Python 3",
   "language": "python",
   "name": "python3"
  },
  "language_info": {
   "codemirror_mode": {
    "name": "ipython",
    "version": 3
   },
   "file_extension": ".py",
   "mimetype": "text/x-python",
   "name": "python",
   "nbconvert_exporter": "python",
   "pygments_lexer": "ipython3",
   "version": "3.6.12"
  }
 },
 "nbformat": 4,
 "nbformat_minor": 4
}
